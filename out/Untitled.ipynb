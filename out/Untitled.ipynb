{
 "cells": [
  {
   "cell_type": "code",
   "execution_count": 8,
   "metadata": {
    "Collapsed": "false"
   },
   "outputs": [],
   "source": [
    "import pandas as pd\n",
    "import numpy as np"
   ]
  },
  {
   "cell_type": "code",
   "execution_count": 2,
   "metadata": {
    "Collapsed": "false"
   },
   "outputs": [],
   "source": [
    "chats = pd.read_csv(\"./chats.csv\")"
   ]
  },
  {
   "cell_type": "code",
   "execution_count": 4,
   "metadata": {
    "Collapsed": "false"
   },
   "outputs": [
    {
     "data": {
      "text/html": [
       "<div>\n",
       "<style scoped>\n",
       "    .dataframe tbody tr th:only-of-type {\n",
       "        vertical-align: middle;\n",
       "    }\n",
       "\n",
       "    .dataframe tbody tr th {\n",
       "        vertical-align: top;\n",
       "    }\n",
       "\n",
       "    .dataframe thead th {\n",
       "        text-align: right;\n",
       "    }\n",
       "</style>\n",
       "<table border=\"1\" class=\"dataframe\">\n",
       "  <thead>\n",
       "    <tr style=\"text-align: right;\">\n",
       "      <th></th>\n",
       "      <th>Date</th>\n",
       "      <th>Time</th>\n",
       "      <th>Author</th>\n",
       "      <th>Message</th>\n",
       "      <th>Words</th>\n",
       "      <th>Chars</th>\n",
       "      <th>Words Count</th>\n",
       "      <th>Day</th>\n",
       "      <th>Hour</th>\n",
       "    </tr>\n",
       "  </thead>\n",
       "  <tbody>\n",
       "    <tr>\n",
       "      <th>0</th>\n",
       "      <td>02/01/19</td>\n",
       "      <td>1:18 pm</td>\n",
       "      <td>Ishaan Aditya</td>\n",
       "      <td>Because of things you did.</td>\n",
       "      <td>['Because', 'of', 'things', 'you', 'did', '']</td>\n",
       "      <td>26</td>\n",
       "      <td>5</td>\n",
       "      <td>Wednesday</td>\n",
       "      <td>13</td>\n",
       "    </tr>\n",
       "    <tr>\n",
       "      <th>1</th>\n",
       "      <td>02/01/19</td>\n",
       "      <td>1:18 pm</td>\n",
       "      <td>Ishaan Aditya</td>\n",
       "      <td>And you not accepting your faults.</td>\n",
       "      <td>['And', 'you', 'not', 'accepting', 'your', 'fa...</td>\n",
       "      <td>34</td>\n",
       "      <td>6</td>\n",
       "      <td>Wednesday</td>\n",
       "      <td>13</td>\n",
       "    </tr>\n",
       "    <tr>\n",
       "      <th>2</th>\n",
       "      <td>02/01/19</td>\n",
       "      <td>1:18 pm</td>\n",
       "      <td>Ishaan Aditya</td>\n",
       "      <td>And when I did join you act like a know-it-all</td>\n",
       "      <td>['And', 'when', 'I', 'did', 'join', 'you', 'ac...</td>\n",
       "      <td>46</td>\n",
       "      <td>10</td>\n",
       "      <td>Wednesday</td>\n",
       "      <td>13</td>\n",
       "    </tr>\n",
       "    <tr>\n",
       "      <th>3</th>\n",
       "      <td>02/01/19</td>\n",
       "      <td>1:18 pm</td>\n",
       "      <td>Ishaan Aditya</td>\n",
       "      <td>Saying yeh nai ho skta woh nai ho sakta.</td>\n",
       "      <td>['Saying', 'yeh', 'nai', 'ho', 'skta', 'woh', ...</td>\n",
       "      <td>40</td>\n",
       "      <td>9</td>\n",
       "      <td>Wednesday</td>\n",
       "      <td>13</td>\n",
       "    </tr>\n",
       "    <tr>\n",
       "      <th>4</th>\n",
       "      <td>02/01/19</td>\n",
       "      <td>1:19 pm</td>\n",
       "      <td>Sahiti Sri</td>\n",
       "      <td>???</td>\n",
       "      <td>['???']</td>\n",
       "      <td>3</td>\n",
       "      <td>1</td>\n",
       "      <td>Wednesday</td>\n",
       "      <td>13</td>\n",
       "    </tr>\n",
       "  </tbody>\n",
       "</table>\n",
       "</div>"
      ],
      "text/plain": [
       "       Date     Time         Author  \\\n",
       "0  02/01/19  1:18 pm  Ishaan Aditya   \n",
       "1  02/01/19  1:18 pm  Ishaan Aditya   \n",
       "2  02/01/19  1:18 pm  Ishaan Aditya   \n",
       "3  02/01/19  1:18 pm  Ishaan Aditya   \n",
       "4  02/01/19  1:19 pm     Sahiti Sri   \n",
       "\n",
       "                                          Message  \\\n",
       "0                      Because of things you did.   \n",
       "1              And you not accepting your faults.   \n",
       "2  And when I did join you act like a know-it-all   \n",
       "3        Saying yeh nai ho skta woh nai ho sakta.   \n",
       "4                                             ???   \n",
       "\n",
       "                                               Words  Chars  Words Count  \\\n",
       "0      ['Because', 'of', 'things', 'you', 'did', '']     26            5   \n",
       "1  ['And', 'you', 'not', 'accepting', 'your', 'fa...     34            6   \n",
       "2  ['And', 'when', 'I', 'did', 'join', 'you', 'ac...     46           10   \n",
       "3  ['Saying', 'yeh', 'nai', 'ho', 'skta', 'woh', ...     40            9   \n",
       "4                                            ['???']      3            1   \n",
       "\n",
       "         Day  Hour  \n",
       "0  Wednesday    13  \n",
       "1  Wednesday    13  \n",
       "2  Wednesday    13  \n",
       "3  Wednesday    13  \n",
       "4  Wednesday    13  "
      ]
     },
     "execution_count": 4,
     "metadata": {},
     "output_type": "execute_result"
    }
   ],
   "source": [
    "chats.head()"
   ]
  },
  {
   "cell_type": "code",
   "execution_count": 14,
   "metadata": {
    "Collapsed": "false"
   },
   "outputs": [
    {
     "data": {
      "text/plain": [
       "0             ['Because', 'of', 'things', 'you', 'did', '']\n",
       "1         ['And', 'you', 'not', 'accepting', 'your', 'fa...\n",
       "2         ['And', 'when', 'I', 'did', 'join', 'you', 'ac...\n",
       "3         ['Saying', 'yeh', 'nai', 'ho', 'skta', 'woh', ...\n",
       "5         [\"I'm\", 'sorry', '', 'You', 'just', 'need', 't...\n",
       "                                ...                        \n",
       "112809                                              ['😂😂😂']\n",
       "112811                                                ['😂']\n",
       "112812                   ['Kya', 'kar', 'rahi', 'jaan', '']\n",
       "112813                                        ['Relaxing?']\n",
       "112814                                         ['Jaan', '']\n",
       "Name: Words, Length: 61607, dtype: object"
      ]
     },
     "execution_count": 14,
     "metadata": {},
     "output_type": "execute_result"
    }
   ],
   "source": [
    "chats[chats[\"Author\"] == \"Ishaan Aditya\"].Words"
   ]
  },
  {
   "cell_type": "code",
   "execution_count": null,
   "metadata": {
    "Collapsed": "false"
   },
   "outputs": [],
   "source": []
  }
 ],
 "metadata": {
  "kernelspec": {
   "display_name": "Python 3",
   "language": "python",
   "name": "python3"
  },
  "language_info": {
   "codemirror_mode": {
    "name": "ipython",
    "version": 3
   },
   "file_extension": ".py",
   "mimetype": "text/x-python",
   "name": "python",
   "nbconvert_exporter": "python",
   "pygments_lexer": "ipython3",
   "version": "3.7.6"
  }
 },
 "nbformat": 4,
 "nbformat_minor": 4
}
