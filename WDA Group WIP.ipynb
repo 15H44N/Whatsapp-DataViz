{
 "cells": [
  {
   "cell_type": "code",
   "execution_count": 4,
   "metadata": {
    "Collapsed": "false"
   },
   "outputs": [],
   "source": [
    "import pandas as pd\n",
    "import re\n",
    "import datetime\n",
    "import matplotlib.pyplot as plt\n",
    "import numpy as np\n",
    "import datetime"
   ]
  },
  {
   "cell_type": "code",
   "execution_count": 8,
   "metadata": {
    "Collapsed": "false"
   },
   "outputs": [],
   "source": [
    "conversationPath = './res/WhatsApp Chat with Dhwani Informal K16-K19.txt' "
   ]
  },
  {
   "cell_type": "markdown",
   "metadata": {
    "Collapsed": "false"
   },
   "source": [
    "## Preprocessing"
   ]
  },
  {
   "cell_type": "code",
   "execution_count": 9,
   "metadata": {
    "Collapsed": "false"
   },
   "outputs": [
    {
     "data": {
      "text/html": [
       "<div>\n",
       "<style scoped>\n",
       "    .dataframe tbody tr th:only-of-type {\n",
       "        vertical-align: middle;\n",
       "    }\n",
       "\n",
       "    .dataframe tbody tr th {\n",
       "        vertical-align: top;\n",
       "    }\n",
       "\n",
       "    .dataframe thead th {\n",
       "        text-align: right;\n",
       "    }\n",
       "</style>\n",
       "<table border=\"1\" class=\"dataframe\">\n",
       "  <thead>\n",
       "    <tr style=\"text-align: right;\">\n",
       "      <th></th>\n",
       "      <th>Date</th>\n",
       "      <th>Time</th>\n",
       "      <th>Author</th>\n",
       "      <th>Message</th>\n",
       "    </tr>\n",
       "  </thead>\n",
       "  <tbody>\n",
       "    <tr>\n",
       "      <th>0</th>\n",
       "      <td>17/07/19</td>\n",
       "      <td>12:42 am</td>\n",
       "      <td>None</td>\n",
       "      <td>Nachiket Agni created group \"Dhwani Informal K...</td>\n",
       "    </tr>\n",
       "    <tr>\n",
       "      <th>1</th>\n",
       "      <td>17/07/19</td>\n",
       "      <td>12:42 am</td>\n",
       "      <td>None</td>\n",
       "      <td>Nachiket Agni added you</td>\n",
       "    </tr>\n",
       "    <tr>\n",
       "      <th>2</th>\n",
       "      <td>17/07/19</td>\n",
       "      <td>12:42 am</td>\n",
       "      <td>None</td>\n",
       "      <td>Nachiket Agni added +91 73084 92757, +91 77620...</td>\n",
       "    </tr>\n",
       "    <tr>\n",
       "      <th>3</th>\n",
       "      <td>17/07/19</td>\n",
       "      <td>12:54 am</td>\n",
       "      <td>None</td>\n",
       "      <td>Toshi Priya changed the subject from \"Dhwani I...</td>\n",
       "    </tr>\n",
       "    <tr>\n",
       "      <th>4</th>\n",
       "      <td>17/07/19</td>\n",
       "      <td>1:00 am</td>\n",
       "      <td>None</td>\n",
       "      <td>Ayush Khedia changed the subject from \"Dhwani ...</td>\n",
       "    </tr>\n",
       "  </tbody>\n",
       "</table>\n",
       "</div>"
      ],
      "text/plain": [
       "       Date      Time Author  \\\n",
       "0  17/07/19  12:42 am   None   \n",
       "1  17/07/19  12:42 am   None   \n",
       "2  17/07/19  12:42 am   None   \n",
       "3  17/07/19  12:54 am   None   \n",
       "4  17/07/19   1:00 am   None   \n",
       "\n",
       "                                             Message  \n",
       "0  Nachiket Agni created group \"Dhwani Informal K...  \n",
       "1                            Nachiket Agni added you  \n",
       "2  Nachiket Agni added +91 73084 92757, +91 77620...  \n",
       "3  Toshi Priya changed the subject from \"Dhwani I...  \n",
       "4  Ayush Khedia changed the subject from \"Dhwani ...  "
      ]
     },
     "execution_count": 9,
     "metadata": {},
     "output_type": "execute_result"
    }
   ],
   "source": [
    "def startsWithAuthor(s):\n",
    "    patterns = [\n",
    "        '([\\w]+):',                        # First Name\n",
    "        '([\\w]+[\\s]+[\\w]+):',              # First Name + Last Name\n",
    "        '([\\w]+[\\s]+[\\w]+[\\s]+[\\w]+):',    # First Name + Middle Name + Last Name\n",
    "        '([+]\\d{2} \\d{5} \\d{5}):',         # Mobile Number (India)\n",
    "        '([+]\\d{2} \\d{3} \\d{3} \\d{4}):',   # Mobile Number (US)\n",
    "        '([+]\\d{2} \\d{4} \\d{7})'           # Mobile Number (Europe)\n",
    "    ]\n",
    "    pattern = '^' + '|'.join(patterns)\n",
    "    result = re.match(pattern, s)\n",
    "    if result:\n",
    "        return True\n",
    "    return False\n",
    "\n",
    "def startsWithDateTime(s):\n",
    "    pattern = '^([0-2][0-9]|(3)[0-1])(\\/)(((0)[0-9])|((1)[0-2]))(\\/)(\\d{2}|\\d{4}), (([0-9][0-9])|[0-9]):([0-9][0-9]) ([a][m]|[p][m]) -'\n",
    "    result = re.match(pattern, s)\n",
    "    if result:\n",
    "        return True\n",
    "    return False\n",
    "\n",
    "def getDataPoint(line):\n",
    "    splitLine = line.split(' - ') \n",
    "    dateTime = splitLine[0] \n",
    "    date, time = dateTime.split(', ') \n",
    "    message = ' '.join(splitLine[1:]) \n",
    "    if startsWithAuthor(message): \n",
    "        splitMessage = message.split(': ')\n",
    "        author = splitMessage[0] \n",
    "        message = ' '.join(splitMessage[1:])\n",
    "    else:\n",
    "        author = None\n",
    "    return date, time, author, message\n",
    "\n",
    "parsedData = [] \n",
    "with open(conversationPath, encoding=\"utf-8\") as fp:\n",
    "    fp.readline() # Skipping first line of the file (usually contains information about end-to-end encryption)    \n",
    "    messageBuffer = [] # Buffer to capture intermediate output for multi-line messages\n",
    "    date, time, author = None, None, None \n",
    "    \n",
    "    while True:\n",
    "        line = fp.readline() \n",
    "        if not line: \n",
    "            break\n",
    "        line = line.strip() \n",
    "        if startsWithDateTime(line): #this indicates the beginning of a new message\n",
    "            if len(messageBuffer) > 0: # Check if the message buffer contains characters from previous iterations\n",
    "                parsedData.append([date, time, author, ' '.join(messageBuffer)]) # Save the tokens from the previous message in parsedData\n",
    "            messageBuffer.clear() \n",
    "            date, time, author, message = getDataPoint(line) \n",
    "            messageBuffer.append(message) # Append message to buffer\n",
    "        else:\n",
    "            messageBuffer.append(line) # If a line doesn't start with a Date Time pattern, then it is part of a multi-line message. So, just append to buffer\n",
    "\n",
    "            \n",
    "df = pd.DataFrame(parsedData, columns=['Date', 'Time', 'Author', 'Message'])\n",
    "df.head()"
   ]
  },
  {
   "cell_type": "code",
   "execution_count": 10,
   "metadata": {
    "Collapsed": "false"
   },
   "outputs": [
    {
     "data": {
      "text/html": [
       "<div>\n",
       "<style scoped>\n",
       "    .dataframe tbody tr th:only-of-type {\n",
       "        vertical-align: middle;\n",
       "    }\n",
       "\n",
       "    .dataframe tbody tr th {\n",
       "        vertical-align: top;\n",
       "    }\n",
       "\n",
       "    .dataframe thead th {\n",
       "        text-align: right;\n",
       "    }\n",
       "</style>\n",
       "<table border=\"1\" class=\"dataframe\">\n",
       "  <thead>\n",
       "    <tr style=\"text-align: right;\">\n",
       "      <th></th>\n",
       "      <th>Date</th>\n",
       "      <th>Time</th>\n",
       "      <th>Author</th>\n",
       "      <th>Message</th>\n",
       "    </tr>\n",
       "  </thead>\n",
       "  <tbody>\n",
       "    <tr>\n",
       "      <th>0</th>\n",
       "      <td>17/07/19</td>\n",
       "      <td>12:42 am</td>\n",
       "      <td>None</td>\n",
       "      <td>Nachiket Agni created group \"Dhwani Informal K...</td>\n",
       "    </tr>\n",
       "    <tr>\n",
       "      <th>1</th>\n",
       "      <td>17/07/19</td>\n",
       "      <td>12:42 am</td>\n",
       "      <td>None</td>\n",
       "      <td>Nachiket Agni added you</td>\n",
       "    </tr>\n",
       "    <tr>\n",
       "      <th>2</th>\n",
       "      <td>17/07/19</td>\n",
       "      <td>12:42 am</td>\n",
       "      <td>None</td>\n",
       "      <td>Nachiket Agni added +91 73084 92757, +91 77620...</td>\n",
       "    </tr>\n",
       "    <tr>\n",
       "      <th>3</th>\n",
       "      <td>17/07/19</td>\n",
       "      <td>12:54 am</td>\n",
       "      <td>None</td>\n",
       "      <td>Toshi Priya changed the subject from \"Dhwani I...</td>\n",
       "    </tr>\n",
       "    <tr>\n",
       "      <th>4</th>\n",
       "      <td>17/07/19</td>\n",
       "      <td>1:00 am</td>\n",
       "      <td>None</td>\n",
       "      <td>Ayush Khedia changed the subject from \"Dhwani ...</td>\n",
       "    </tr>\n",
       "  </tbody>\n",
       "</table>\n",
       "</div>"
      ],
      "text/plain": [
       "       Date      Time Author  \\\n",
       "0  17/07/19  12:42 am   None   \n",
       "1  17/07/19  12:42 am   None   \n",
       "2  17/07/19  12:42 am   None   \n",
       "3  17/07/19  12:54 am   None   \n",
       "4  17/07/19   1:00 am   None   \n",
       "\n",
       "                                             Message  \n",
       "0  Nachiket Agni created group \"Dhwani Informal K...  \n",
       "1                            Nachiket Agni added you  \n",
       "2  Nachiket Agni added +91 73084 92757, +91 77620...  \n",
       "3  Toshi Priya changed the subject from \"Dhwani I...  \n",
       "4  Ayush Khedia changed the subject from \"Dhwani ...  "
      ]
     },
     "execution_count": 10,
     "metadata": {},
     "output_type": "execute_result"
    }
   ],
   "source": [
    "null_authors_df = df[df['Author'].isnull()]\n",
    "null_authors_df.head()"
   ]
  },
  {
   "cell_type": "code",
   "execution_count": 11,
   "metadata": {
    "Collapsed": "false"
   },
   "outputs": [],
   "source": [
    "null_authors_df = df[df['Author'].isnull()]\n",
    "null_authors_df.head()\n",
    "media_messages_df = df[df['Message'] == '<Media omitted>']"
   ]
  },
  {
   "cell_type": "code",
   "execution_count": 12,
   "metadata": {
    "Collapsed": "false"
   },
   "outputs": [
    {
     "data": {
      "text/html": [
       "<div>\n",
       "<style scoped>\n",
       "    .dataframe tbody tr th:only-of-type {\n",
       "        vertical-align: middle;\n",
       "    }\n",
       "\n",
       "    .dataframe tbody tr th {\n",
       "        vertical-align: top;\n",
       "    }\n",
       "\n",
       "    .dataframe thead th {\n",
       "        text-align: right;\n",
       "    }\n",
       "</style>\n",
       "<table border=\"1\" class=\"dataframe\">\n",
       "  <thead>\n",
       "    <tr style=\"text-align: right;\">\n",
       "      <th></th>\n",
       "      <th>Date</th>\n",
       "      <th>Time</th>\n",
       "      <th>Author</th>\n",
       "      <th>Message</th>\n",
       "    </tr>\n",
       "  </thead>\n",
       "  <tbody>\n",
       "    <tr>\n",
       "      <th>9</th>\n",
       "      <td>17/07/19</td>\n",
       "      <td>7:55 am</td>\n",
       "      <td>Sudakshina Bhattacharjee</td>\n",
       "      <td>Oh damn. 🌚</td>\n",
       "    </tr>\n",
       "    <tr>\n",
       "      <th>10</th>\n",
       "      <td>17/07/19</td>\n",
       "      <td>8:51 am</td>\n",
       "      <td>Ruchira Mishra</td>\n",
       "      <td>🌚</td>\n",
       "    </tr>\n",
       "    <tr>\n",
       "      <th>11</th>\n",
       "      <td>19/07/19</td>\n",
       "      <td>1:27 pm</td>\n",
       "      <td>Toshi Priya</td>\n",
       "      <td>I am adding our Faculty Advisors to Dhwani K16...</td>\n",
       "    </tr>\n",
       "    <tr>\n",
       "      <th>13</th>\n",
       "      <td>21/07/19</td>\n",
       "      <td>12:18 am</td>\n",
       "      <td>Akshat Kashyap</td>\n",
       "      <td>Pata hai</td>\n",
       "    </tr>\n",
       "    <tr>\n",
       "      <th>14</th>\n",
       "      <td>21/07/19</td>\n",
       "      <td>12:18 am</td>\n",
       "      <td>Toshi Priya</td>\n",
       "      <td>Han theek se rakho wahi</td>\n",
       "    </tr>\n",
       "  </tbody>\n",
       "</table>\n",
       "</div>"
      ],
      "text/plain": [
       "        Date      Time                    Author  \\\n",
       "9   17/07/19   7:55 am  Sudakshina Bhattacharjee   \n",
       "10  17/07/19   8:51 am            Ruchira Mishra   \n",
       "11  19/07/19   1:27 pm               Toshi Priya   \n",
       "13  21/07/19  12:18 am            Akshat Kashyap   \n",
       "14  21/07/19  12:18 am               Toshi Priya   \n",
       "\n",
       "                                              Message  \n",
       "9                                          Oh damn. 🌚  \n",
       "10                                                  🌚  \n",
       "11  I am adding our Faculty Advisors to Dhwani K16...  \n",
       "13                                           Pata hai  \n",
       "14                            Han theek se rakho wahi  "
      ]
     },
     "execution_count": 12,
     "metadata": {},
     "output_type": "execute_result"
    }
   ],
   "source": [
    "messages_df = df.drop(null_authors_df.index) # Drops all rows of the data frame containing messages from null authors\n",
    "messages_df = messages_df.drop(media_messages_df.index) # Drops all rows of the data frame containing media messages\n",
    "messages_df.head()"
   ]
  },
  {
   "cell_type": "code",
   "execution_count": 13,
   "metadata": {
    "Collapsed": "false"
   },
   "outputs": [],
   "source": [
    "def HourSplitTo24(x):\n",
    "    ap=x.split(\" \")\n",
    "    hour=int(ap[0].split(\":\")[0]) \n",
    "    alpha=ap[1]\n",
    "    if alpha==\"am\" and hour==12:\n",
    "        return \"24\"\n",
    "    if alpha==\"pm\" and hour==12:\n",
    "        return \"12\"\n",
    "    if alpha==\"am\":\n",
    "        return(str(hour))\n",
    "    if alpha==\"pm\":\n",
    "        return (str(hour+12))\n",
    "    \n",
    "    \n",
    "messages_df['Hour'] = messages_df['Time'].apply(lambda x : HourSplitTo24(x))"
   ]
  },
  {
   "cell_type": "code",
   "execution_count": 14,
   "metadata": {
    "Collapsed": "false"
   },
   "outputs": [
    {
     "data": {
      "text/html": [
       "<div>\n",
       "<style scoped>\n",
       "    .dataframe tbody tr th:only-of-type {\n",
       "        vertical-align: middle;\n",
       "    }\n",
       "\n",
       "    .dataframe tbody tr th {\n",
       "        vertical-align: top;\n",
       "    }\n",
       "\n",
       "    .dataframe thead th {\n",
       "        text-align: right;\n",
       "    }\n",
       "</style>\n",
       "<table border=\"1\" class=\"dataframe\">\n",
       "  <thead>\n",
       "    <tr style=\"text-align: right;\">\n",
       "      <th></th>\n",
       "      <th>Date</th>\n",
       "      <th>Time</th>\n",
       "      <th>Author</th>\n",
       "      <th>Message</th>\n",
       "      <th>Hour</th>\n",
       "      <th>Day</th>\n",
       "    </tr>\n",
       "  </thead>\n",
       "  <tbody>\n",
       "    <tr>\n",
       "      <th>9</th>\n",
       "      <td>17/07/19</td>\n",
       "      <td>7:55 am</td>\n",
       "      <td>Sudakshina Bhattacharjee</td>\n",
       "      <td>Oh damn. 🌚</td>\n",
       "      <td>7</td>\n",
       "      <td>Wednesday</td>\n",
       "    </tr>\n",
       "    <tr>\n",
       "      <th>10</th>\n",
       "      <td>17/07/19</td>\n",
       "      <td>8:51 am</td>\n",
       "      <td>Ruchira Mishra</td>\n",
       "      <td>🌚</td>\n",
       "      <td>8</td>\n",
       "      <td>Wednesday</td>\n",
       "    </tr>\n",
       "    <tr>\n",
       "      <th>11</th>\n",
       "      <td>19/07/19</td>\n",
       "      <td>1:27 pm</td>\n",
       "      <td>Toshi Priya</td>\n",
       "      <td>I am adding our Faculty Advisors to Dhwani K16...</td>\n",
       "      <td>13</td>\n",
       "      <td>Friday</td>\n",
       "    </tr>\n",
       "    <tr>\n",
       "      <th>13</th>\n",
       "      <td>21/07/19</td>\n",
       "      <td>12:18 am</td>\n",
       "      <td>Akshat Kashyap</td>\n",
       "      <td>Pata hai</td>\n",
       "      <td>24</td>\n",
       "      <td>Sunday</td>\n",
       "    </tr>\n",
       "    <tr>\n",
       "      <th>14</th>\n",
       "      <td>21/07/19</td>\n",
       "      <td>12:18 am</td>\n",
       "      <td>Toshi Priya</td>\n",
       "      <td>Han theek se rakho wahi</td>\n",
       "      <td>24</td>\n",
       "      <td>Sunday</td>\n",
       "    </tr>\n",
       "  </tbody>\n",
       "</table>\n",
       "</div>"
      ],
      "text/plain": [
       "        Date      Time                    Author  \\\n",
       "9   17/07/19   7:55 am  Sudakshina Bhattacharjee   \n",
       "10  17/07/19   8:51 am            Ruchira Mishra   \n",
       "11  19/07/19   1:27 pm               Toshi Priya   \n",
       "13  21/07/19  12:18 am            Akshat Kashyap   \n",
       "14  21/07/19  12:18 am               Toshi Priya   \n",
       "\n",
       "                                              Message Hour        Day  \n",
       "9                                          Oh damn. 🌚    7  Wednesday  \n",
       "10                                                  🌚    8  Wednesday  \n",
       "11  I am adding our Faculty Advisors to Dhwani K16...   13     Friday  \n",
       "13                                           Pata hai   24     Sunday  \n",
       "14                            Han theek se rakho wahi   24     Sunday  "
      ]
     },
     "execution_count": 14,
     "metadata": {},
     "output_type": "execute_result"
    }
   ],
   "source": [
    "import calendar\n",
    "def DayOTW(s):\n",
    "  dtlst=s.split('/')\n",
    "  \n",
    "  my_date=datetime.date(int(dtlst[2]),int(dtlst[1]),int(dtlst[0])) #format is year month day\n",
    "  #return(calendar.day_name[my_date.weekday()])\n",
    "  return (calendar.day_name[my_date.weekday()])\n",
    "\n",
    "messages_df['Day'] = messages_df['Date'].apply(lambda s : DayOTW(s))\n",
    "messages_df.head()"
   ]
  },
  {
   "cell_type": "code",
   "execution_count": 15,
   "metadata": {
    "Collapsed": "false"
   },
   "outputs": [],
   "source": [
    "WordList=[]\n",
    "patternq='\\?+|\\s+'\n",
    "for i in messages_df.Message:\n",
    "  row=re.split(r';|,|:|\\/|\\*|\\n|-|\\.|\\s',i)\n",
    "  for j in row:\n",
    "    x=re.sub(patternq,'',j)\n",
    "    j=x\n",
    "  WordList.append(row)\n",
    "\n",
    "messages_df.insert(4,\"Words\",WordList)\n",
    "#df.drop('Words', axis=1, inplace=True)\n",
    "messages_df.head(5)\n",
    "messages_df.reset_index(drop=True, inplace=True)"
   ]
  },
  {
   "cell_type": "code",
   "execution_count": 16,
   "metadata": {
    "Collapsed": "false"
   },
   "outputs": [
    {
     "data": {
      "text/html": [
       "<div>\n",
       "<style scoped>\n",
       "    .dataframe tbody tr th:only-of-type {\n",
       "        vertical-align: middle;\n",
       "    }\n",
       "\n",
       "    .dataframe tbody tr th {\n",
       "        vertical-align: top;\n",
       "    }\n",
       "\n",
       "    .dataframe thead th {\n",
       "        text-align: right;\n",
       "    }\n",
       "</style>\n",
       "<table border=\"1\" class=\"dataframe\">\n",
       "  <thead>\n",
       "    <tr style=\"text-align: right;\">\n",
       "      <th></th>\n",
       "      <th>Date</th>\n",
       "      <th>Time</th>\n",
       "      <th>Author</th>\n",
       "      <th>Message</th>\n",
       "      <th>Words</th>\n",
       "      <th>Hour</th>\n",
       "      <th>Day</th>\n",
       "    </tr>\n",
       "  </thead>\n",
       "  <tbody>\n",
       "    <tr>\n",
       "      <th>0</th>\n",
       "      <td>17/07/19</td>\n",
       "      <td>7:55 am</td>\n",
       "      <td>Sudakshina Bhattacharjee</td>\n",
       "      <td>Oh damn. 🌚</td>\n",
       "      <td>[Oh, damn, , 🌚]</td>\n",
       "      <td>7</td>\n",
       "      <td>Wednesday</td>\n",
       "    </tr>\n",
       "    <tr>\n",
       "      <th>1</th>\n",
       "      <td>17/07/19</td>\n",
       "      <td>8:51 am</td>\n",
       "      <td>Ruchira Mishra</td>\n",
       "      <td>🌚</td>\n",
       "      <td>[🌚]</td>\n",
       "      <td>8</td>\n",
       "      <td>Wednesday</td>\n",
       "    </tr>\n",
       "    <tr>\n",
       "      <th>2</th>\n",
       "      <td>19/07/19</td>\n",
       "      <td>1:27 pm</td>\n",
       "      <td>Toshi Priya</td>\n",
       "      <td>I am adding our Faculty Advisors to Dhwani K16...</td>\n",
       "      <td>[I, am, adding, our, Faculty, Advisors, to, Dh...</td>\n",
       "      <td>13</td>\n",
       "      <td>Friday</td>\n",
       "    </tr>\n",
       "    <tr>\n",
       "      <th>3</th>\n",
       "      <td>21/07/19</td>\n",
       "      <td>12:18 am</td>\n",
       "      <td>Akshat Kashyap</td>\n",
       "      <td>Pata hai</td>\n",
       "      <td>[Pata, hai]</td>\n",
       "      <td>24</td>\n",
       "      <td>Sunday</td>\n",
       "    </tr>\n",
       "    <tr>\n",
       "      <th>4</th>\n",
       "      <td>21/07/19</td>\n",
       "      <td>12:18 am</td>\n",
       "      <td>Toshi Priya</td>\n",
       "      <td>Han theek se rakho wahi</td>\n",
       "      <td>[Han, theek, se, rakho, wahi]</td>\n",
       "      <td>24</td>\n",
       "      <td>Sunday</td>\n",
       "    </tr>\n",
       "  </tbody>\n",
       "</table>\n",
       "</div>"
      ],
      "text/plain": [
       "       Date      Time                    Author  \\\n",
       "0  17/07/19   7:55 am  Sudakshina Bhattacharjee   \n",
       "1  17/07/19   8:51 am            Ruchira Mishra   \n",
       "2  19/07/19   1:27 pm               Toshi Priya   \n",
       "3  21/07/19  12:18 am            Akshat Kashyap   \n",
       "4  21/07/19  12:18 am               Toshi Priya   \n",
       "\n",
       "                                             Message  \\\n",
       "0                                         Oh damn. 🌚   \n",
       "1                                                  🌚   \n",
       "2  I am adding our Faculty Advisors to Dhwani K16...   \n",
       "3                                           Pata hai   \n",
       "4                            Han theek se rakho wahi   \n",
       "\n",
       "                                               Words Hour        Day  \n",
       "0                                    [Oh, damn, , 🌚]    7  Wednesday  \n",
       "1                                                [🌚]    8  Wednesday  \n",
       "2  [I, am, adding, our, Faculty, Advisors, to, Dh...   13     Friday  \n",
       "3                                        [Pata, hai]   24     Sunday  \n",
       "4                      [Han, theek, se, rakho, wahi]   24     Sunday  "
      ]
     },
     "execution_count": 16,
     "metadata": {},
     "output_type": "execute_result"
    }
   ],
   "source": [
    "messages_df.head()"
   ]
  },
  {
   "cell_type": "markdown",
   "metadata": {
    "Collapsed": "false"
   },
   "source": [
    "## WordCloud"
   ]
  },
  {
   "cell_type": "code",
   "execution_count": 17,
   "metadata": {
    "Collapsed": "false"
   },
   "outputs": [],
   "source": [
    "Mobj=messages_df.Message.str.split(expand=True).stack().value_counts()"
   ]
  },
  {
   "cell_type": "code",
   "execution_count": null,
   "metadata": {
    "Collapsed": "false"
   },
   "outputs": [],
   "source": []
  },
  {
   "cell_type": "code",
   "execution_count": 18,
   "metadata": {
    "Collapsed": "false"
   },
   "outputs": [],
   "source": [
    "wordsdf = pd.DataFrame(Mobj)\n",
    "wordsdf=wordsdf.reset_index()\n",
    "wordsdf.columns=['Word','Frequency']\n",
    "\n",
    "words = ' '.join(wordsdf['Word'])"
   ]
  },
  {
   "cell_type": "code",
   "execution_count": 19,
   "metadata": {
    "Collapsed": "false"
   },
   "outputs": [
    {
     "data": {
      "text/html": [
       "<div>\n",
       "<style scoped>\n",
       "    .dataframe tbody tr th:only-of-type {\n",
       "        vertical-align: middle;\n",
       "    }\n",
       "\n",
       "    .dataframe tbody tr th {\n",
       "        vertical-align: top;\n",
       "    }\n",
       "\n",
       "    .dataframe thead th {\n",
       "        text-align: right;\n",
       "    }\n",
       "</style>\n",
       "<table border=\"1\" class=\"dataframe\">\n",
       "  <thead>\n",
       "    <tr style=\"text-align: right;\">\n",
       "      <th></th>\n",
       "      <th>Word</th>\n",
       "      <th>Frequency</th>\n",
       "    </tr>\n",
       "  </thead>\n",
       "  <tbody>\n",
       "    <tr>\n",
       "      <th>0</th>\n",
       "      <td>Happy</td>\n",
       "      <td>2066</td>\n",
       "    </tr>\n",
       "    <tr>\n",
       "      <th>1</th>\n",
       "      <td>birthday</td>\n",
       "      <td>993</td>\n",
       "    </tr>\n",
       "    <tr>\n",
       "      <th>2</th>\n",
       "      <td>Birthday</td>\n",
       "      <td>763</td>\n",
       "    </tr>\n",
       "    <tr>\n",
       "      <th>3</th>\n",
       "      <td>hai</td>\n",
       "      <td>524</td>\n",
       "    </tr>\n",
       "    <tr>\n",
       "      <th>4</th>\n",
       "      <td>the</td>\n",
       "      <td>405</td>\n",
       "    </tr>\n",
       "  </tbody>\n",
       "</table>\n",
       "</div>"
      ],
      "text/plain": [
       "       Word  Frequency\n",
       "0     Happy       2066\n",
       "1  birthday        993\n",
       "2  Birthday        763\n",
       "3       hai        524\n",
       "4       the        405"
      ]
     },
     "execution_count": 19,
     "metadata": {},
     "output_type": "execute_result"
    }
   ],
   "source": [
    "wordsdf.head()"
   ]
  },
  {
   "cell_type": "code",
   "execution_count": 20,
   "metadata": {
    "Collapsed": "false"
   },
   "outputs": [],
   "source": [
    "wordlist=[]\n",
    "for i in wordsdf['Word']:\n",
    "   wordlist.append(i.lower())\n",
    "\n",
    "wordz=\" \".join(wordlist)"
   ]
  },
  {
   "cell_type": "code",
   "execution_count": 21,
   "metadata": {
    "Collapsed": "false"
   },
   "outputs": [],
   "source": [
    "from wordcloud import WordCloud, STOPWORDS\n",
    "from PIL import Image\n",
    "import numpy as np\n",
    "import matplotlib "
   ]
  },
  {
   "cell_type": "code",
   "execution_count": 22,
   "metadata": {
    "Collapsed": "false"
   },
   "outputs": [],
   "source": [
    "wc_mask = np.array(Image.open(\"./res/blackguitar1.png\"))"
   ]
  },
  {
   "cell_type": "code",
   "execution_count": 23,
   "metadata": {
    "Collapsed": "false"
   },
   "outputs": [],
   "source": [
    "OrangeBlue3=[\"#FA6A21\", \"#FA6A21\", \"#F58311\", \"#00A6E0\", \"#4E8AD9\", \"#3b5e91\"] \n",
    "colorstomap=OrangeBlue3\n",
    "from matplotlib.colors import LinearSegmentedColormap\n",
    "cmap = LinearSegmentedColormap.from_list(\"mycmap\", colorstomap)"
   ]
  },
  {
   "cell_type": "code",
   "execution_count": 24,
   "metadata": {
    "Collapsed": "false"
   },
   "outputs": [],
   "source": [
    "stopwords1=[]\n",
    "#words = ' '.join(df_Mobj['Word'])\n",
    "#print(words)\n",
    "newwordstostop=[\"??\",'attached)','(file','omitted>','<Media','?',\"JPG\",\"jpg\",\"IMG\",\"HTTPS\",\"VID\",\"mp4\",\"com\",\"youtu\",\"webp\",\"maps\",\"google\"]\n",
    "newerwords=[\"opus\",\"ptt\",\"PDF\",\"be\",\"STK\",\"thi\",\"www\",\"i\",\"I\"]\n",
    "wastop=[]\n",
    "#WA0000 type stop\n",
    "alist=[\"%.4d\" % i for i in range(0,500)]\n",
    "for i in alist:\n",
    "  stop=\"WA\"+str(i)\n",
    "  wastop.append(stop)\n",
    "  #print(stop, end=' ')\n",
    "\n",
    "for i in newwordstostop:\n",
    "  stopwords1.append(i)\n",
    "for i in wastop:\n",
    "  stopwords1.append(i)\n",
    "for i in newerwords:\n",
    "  stopwords1.append(i)"
   ]
  },
  {
   "cell_type": "code",
   "execution_count": null,
   "metadata": {
    "Collapsed": "false"
   },
   "outputs": [],
   "source": []
  },
  {
   "cell_type": "code",
   "execution_count": 48,
   "metadata": {
    "Collapsed": "false"
   },
   "outputs": [
    {
     "data": {
      "image/png": "[encoded data removed]",
      "text/plain": [
       "<Figure size 432x288 with 1 Axes>"
      ]
     },
     "metadata": {
      "needs_background": "light"
     },
     "output_type": "display_data"
    }
   ],
   "source": [
    "#background_color=\"black\"\n",
    "#background_color=\"rgba(255, 255, 255, 0)\", mode=\"RGBA\", \n",
    "def filepathwc(fpath,remark=''):\n",
    "    #dtstr=datetime.datetime.now().strftime(\"%I:%M%p on %B %d, %Y\")\n",
    "    dtstr=datetime.datetime.now().strftime(\"%Y-%m-%d_%H-%M-%S \")\n",
    "    fname=fpath+\"wordcloud \"+dtstr+remark+\".png\"\n",
    "    return fname\n",
    "\n",
    "customCmap=False\n",
    "\n",
    "if not customCmap:\n",
    "    #cmapvar=cmap\n",
    "    cmapvar=\"winter\"\n",
    "else:\n",
    "    cmapvar=cmap\n",
    "\n",
    "ToSavePlot=True\n",
    "wordcloud = WordCloud(font_path='./res/DJB The Generic.ttf',\n",
    "                      stopwords=stopwords1,\n",
    "                      background_color=\"rgba(255, 255, 255, 0)\", mode=\"RGBA\",\n",
    "                      width=2000,\n",
    "                      height=1400,\n",
    "                      colormap=cmapvar,\n",
    "                      mask=wc_mask\n",
    "                     ).generate(words)\n",
    "if  ToSavePlot:\n",
    "    if not customCmap:\n",
    "        remark1=cmapvar\n",
    "    fname=filepathwc(\"./plots/\",remark1)\n",
    "    wordcloud.to_file(fname)\n",
    "plt.imshow(wordcloud)\n",
    "plt.axis('off')\n",
    "plt.show() "
   ]
  },
  {
   "cell_type": "code",
   "execution_count": null,
   "metadata": {
    "Collapsed": "false"
   },
   "outputs": [],
   "source": []
  },
  {
   "cell_type": "code",
   "execution_count": null,
   "metadata": {
    "Collapsed": "false"
   },
   "outputs": [],
   "source": []
  },
  {
   "cell_type": "code",
   "execution_count": null,
   "metadata": {
    "Collapsed": "false"
   },
   "outputs": [],
   "source": []
  }
 ],
 "metadata": {
  "kernelspec": {
   "display_name": "Python 3.7.4 64-bit ('base': conda)",
   "language": "python",
   "name": "python37464bitbaseconda068391785abd4674844ced6ec36f0ef9"
  },
  "language_info": {
   "codemirror_mode": {
    "name": "ipython",
    "version": 3
   },
   "file_extension": ".py",
   "mimetype": "text/x-python",
   "name": "python",
   "nbconvert_exporter": "python",
   "pygments_lexer": "ipython3",
   "version": "3.7.6"
  }
 },
 "nbformat": 4,
 "nbformat_minor": 4
}
